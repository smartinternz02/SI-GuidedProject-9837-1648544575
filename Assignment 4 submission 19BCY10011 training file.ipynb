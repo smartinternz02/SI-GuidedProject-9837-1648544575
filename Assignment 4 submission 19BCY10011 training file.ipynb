{
  "cells": [
    {
      "cell_type": "markdown",
      "metadata": {
        "id": "view-in-github",
        "colab_type": "text"
      },
      "source": [
        "<a href=\"https://colab.research.google.com/github/smartinternz02/SI-GuidedProject-9837-1648544575/blob/main/Assignment%204%20submission%2019BCY10011%20training%20file.ipynb\" target=\"_parent\"><img src=\"https://colab.research.google.com/assets/colab-badge.svg\" alt=\"Open In Colab\"/></a>"
      ]
    },
    {
      "cell_type": "code",
      "execution_count": null,
      "metadata": {
        "id": "SvtGOJhuVLQ8"
      },
      "outputs": [],
      "source": [
        "from tensorflow.keras.models import Sequential\n",
        "from tensorflow.keras.layers import Dense, Convolution2D,MaxPooling2D,Flatten\n",
        "\n"
      ]
    },
    {
      "cell_type": "code",
      "execution_count": null,
      "metadata": {
        "id": "gcqO68hiVLRJ"
      },
      "outputs": [],
      "source": [
        "#agumentating the images by applying some more features, and rescaling\n",
        "from tensorflow.keras.preprocessing .image import ImageDataGenerator\n",
        "\n",
        "train_datagen = ImageDataGenerator(rescale = 1./255,shear_range = 0.2,zoom_range = 0.2,horizontal_flip = True)\n",
        "test_datagen = ImageDataGenerator(rescale = 1./255)\n",
        "\n"
      ]
    },
    {
      "cell_type": "code",
      "execution_count": null,
      "metadata": {
        "id": "iAGvImf3VLRM",
        "outputId": "3d762ca4-ab14-4e1c-ea34-6d657e13f359"
      },
      "outputs": [
        {
          "name": "stdout",
          "output_type": "stream",
          "text": [
            "Found 1495 images belonging to 5 classes.\n",
            "Found 640 images belonging to 5 classes.\n"
          ]
        }
      ],
      "source": [
        "x_train = train_datagen.flow_from_directory(r'E:\\Training\\May4th-rsip2020\\Convolution Neural Networks\\Crop-animal data\\trainset',target_size = (64,64),batch_size = 32,class_mode = \"categorical\")\n",
        "x_test = test_datagen.flow_from_directory(r'E:\\Training\\May4th-rsip2020\\Convolution Neural Networks\\Crop-animal data\\testset',target_size = (64,64),batch_size = 32,class_mode = \"categorical\")"
      ]
    },
    {
      "cell_type": "code",
      "execution_count": null,
      "metadata": {
        "id": "aspnpPqPVLRQ",
        "outputId": "1035d061-294d-4253-97e5-6f704478a536"
      },
      "outputs": [
        {
          "data": {
            "text/plain": [
              "{'bears': 0, 'crows': 1, 'elephants': 2, 'racoons': 3, 'rats': 4}"
            ]
          },
          "execution_count": 4,
          "metadata": {},
          "output_type": "execute_result"
        }
      ],
      "source": [
        "x_train.class_indices"
      ]
    },
    {
      "cell_type": "code",
      "execution_count": null,
      "metadata": {
        "id": "XUSBYZ8fVLRS"
      },
      "outputs": [],
      "source": [
        "model = Sequential()"
      ]
    },
    {
      "cell_type": "code",
      "execution_count": null,
      "metadata": {
        "id": "Rma27LYbVLRT"
      },
      "outputs": [],
      "source": [
        "model.add(Convolution2D(32,(3,3),input_shape = (64,64,3)))"
      ]
    },
    {
      "cell_type": "code",
      "execution_count": null,
      "metadata": {
        "id": "-NFJQHMTVLRV"
      },
      "outputs": [],
      "source": [
        "model.add(MaxPooling2D((2,2)))"
      ]
    },
    {
      "cell_type": "code",
      "execution_count": null,
      "metadata": {
        "id": "x87T2CJQVLRY"
      },
      "outputs": [],
      "source": [
        "model.add(Flatten())"
      ]
    },
    {
      "cell_type": "code",
      "execution_count": null,
      "metadata": {
        "id": "SfTSSmyoVLRa"
      },
      "outputs": [],
      "source": [
        "model.add(Dense(units = 128, kernel_initializer= \"random_uniform\",activation = \"relu\"))"
      ]
    },
    {
      "cell_type": "code",
      "execution_count": null,
      "metadata": {
        "id": "5mQmNyCQVLRd"
      },
      "outputs": [],
      "source": [
        "model.add(Dense(units = 5 , kernel_initializer= \"random_uniform\",activation = \"softmax\"))"
      ]
    },
    {
      "cell_type": "code",
      "execution_count": null,
      "metadata": {
        "id": "0YofW01tVLRf"
      },
      "outputs": [],
      "source": [
        "model.compile(optimizer= \"adam\",loss = \"categorical_crossentropy\" , metrics =[\"accuracy\"])"
      ]
    },
    {
      "cell_type": "code",
      "execution_count": null,
      "metadata": {
        "id": "8fr24joSVLRg",
        "outputId": "f4c14d14-dd62-421c-809d-8aad35e61830"
      },
      "outputs": [
        {
          "name": "stdout",
          "output_type": "stream",
          "text": [
            "Epoch 1/10\n",
            "47/47 [==============================] - 34s 692ms/step - loss: 1.7570 - accuracy: 0.3004 - val_loss: 1.1592 - val_accuracy: 0.6297\n",
            "Epoch 2/10\n",
            "47/47 [==============================] - 19s 403ms/step - loss: 1.2668 - accuracy: 0.5056 - val_loss: 1.1067 - val_accuracy: 0.5625\n",
            "Epoch 3/10\n",
            "47/47 [==============================] - 18s 385ms/step - loss: 1.1082 - accuracy: 0.5633 - val_loss: 1.0499 - val_accuracy: 0.5547\n",
            "Epoch 4/10\n",
            "47/47 [==============================] - 19s 408ms/step - loss: 1.0115 - accuracy: 0.6071 - val_loss: 0.8551 - val_accuracy: 0.6828\n",
            "Epoch 5/10\n",
            "47/47 [==============================] - 19s 401ms/step - loss: 1.0052 - accuracy: 0.6229 - val_loss: 0.8547 - val_accuracy: 0.6672\n",
            "Epoch 6/10\n",
            "47/47 [==============================] - 18s 383ms/step - loss: 0.8709 - accuracy: 0.6660 - val_loss: 0.7663 - val_accuracy: 0.6859\n",
            "Epoch 7/10\n",
            "47/47 [==============================] - 18s 391ms/step - loss: 0.8276 - accuracy: 0.6791 - val_loss: 0.9381 - val_accuracy: 0.6000\n",
            "Epoch 8/10\n",
            "47/47 [==============================] - 17s 367ms/step - loss: 0.7497 - accuracy: 0.7211 - val_loss: 0.6275 - val_accuracy: 0.7563\n",
            "Epoch 9/10\n",
            "47/47 [==============================] - 17s 366ms/step - loss: 0.6532 - accuracy: 0.7603 - val_loss: 0.6370 - val_accuracy: 0.7578\n",
            "Epoch 10/10\n",
            "47/47 [==============================] - 17s 366ms/step - loss: 0.6043 - accuracy: 0.8019 - val_loss: 0.5053 - val_accuracy: 0.8234\n"
          ]
        },
        {
          "data": {
            "text/plain": [
              "<tensorflow.python.keras.callbacks.History at 0x1c34d82a7c8>"
            ]
          },
          "execution_count": 16,
          "metadata": {},
          "output_type": "execute_result"
        }
      ],
      "source": [
        "model.fit_generator(x_train,steps_per_epoch = 47 , epochs = 10 , validation_data = x_test,validation_steps = 20 )"
      ]
    },
    {
      "cell_type": "code",
      "execution_count": null,
      "metadata": {
        "id": "7sdljqdTVLRi",
        "outputId": "a974c35c-48db-47f6-f4bd-0afdb67f81ca"
      },
      "outputs": [
        {
          "data": {
            "text/plain": [
              "20.0"
            ]
          },
          "execution_count": 13,
          "metadata": {},
          "output_type": "execute_result"
        }
      ],
      "source": [
        "640/32"
      ]
    },
    {
      "cell_type": "code",
      "execution_count": null,
      "metadata": {
        "id": "eOYwT9lZVLRj"
      },
      "outputs": [],
      "source": [
        "model.save(\"animal.h5\")"
      ]
    },
    {
      "cell_type": "code",
      "execution_count": null,
      "metadata": {
        "id": "KBdW5gZvVLRl"
      },
      "outputs": [],
      "source": [
        ""
      ]
    }
  ],
  "metadata": {
    "kernelspec": {
      "display_name": "Python 3",
      "language": "python",
      "name": "python3"
    },
    "language_info": {
      "codemirror_mode": {
        "name": "ipython",
        "version": 3
      },
      "file_extension": ".py",
      "mimetype": "text/x-python",
      "name": "python",
      "nbconvert_exporter": "python",
      "pygments_lexer": "ipython3",
      "version": "3.7.6"
    },
    "colab": {
      "name": "CNN train.ipynb",
      "provenance": [],
      "include_colab_link": true
    }
  },
  "nbformat": 4,
  "nbformat_minor": 0
}