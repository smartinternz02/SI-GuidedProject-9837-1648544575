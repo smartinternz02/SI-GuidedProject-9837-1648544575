{
  "cells": [
    {
      "cell_type": "markdown",
      "metadata": {
        "id": "view-in-github",
        "colab_type": "text"
      },
      "source": [
        "<a href=\"https://colab.research.google.com/github/smartinternz02/SI-GuidedProject-9837-1648544575/blob/main/Assignment%204%20submission%2019BCY10011%20testing%20file.ipynb\" target=\"_parent\"><img src=\"https://colab.research.google.com/assets/colab-badge.svg\" alt=\"Open In Colab\"/></a>"
      ]
    },
    {
      "cell_type": "code",
      "execution_count": null,
      "metadata": {
        "id": "wygwGpI6UjNJ"
      },
      "outputs": [],
      "source": [
        "from tensorflow.keras.models import load_model\n",
        "from tensorflow.keras.preprocessing  import image\n",
        "import numpy as np"
      ]
    },
    {
      "cell_type": "code",
      "execution_count": null,
      "metadata": {
        "id": "9o_rnuslUjNb"
      },
      "outputs": [],
      "source": [
        "model = load_model (r\"E:\\Training\\May4th-rsip2020\\Flask app\\CNN-animal recognition\\CNN-animal recognition\\animal.h5\")"
      ]
    },
    {
      "cell_type": "code",
      "execution_count": null,
      "metadata": {
        "id": "biuvbt1fUjNe"
      },
      "outputs": [],
      "source": [
        "img = image.load_img(\"bear.jpg\",target_size = (64,64))\n"
      ]
    },
    {
      "cell_type": "code",
      "execution_count": null,
      "metadata": {
        "id": "iTCytYhiUjNg",
        "outputId": "f7271986-04ff-4fd8-9484-16cea5712f5c"
      },
      "outputs": [
        {
          "data": {
            "text/plain": [
              "PIL.Image.Image"
            ]
          },
          "execution_count": 118,
          "metadata": {},
          "output_type": "execute_result"
        }
      ],
      "source": [
        "type(img)"
      ]
    },
    {
      "cell_type": "code",
      "execution_count": null,
      "metadata": {
        "id": "Rlw3Oun1UjNl"
      },
      "outputs": [],
      "source": [
        "x = image.img_to_array(img)"
      ]
    },
    {
      "cell_type": "code",
      "execution_count": null,
      "metadata": {
        "id": "YXpdqsj4UjNo",
        "outputId": "58aabfe7-4815-487c-ab27-973e314cffe3"
      },
      "outputs": [
        {
          "data": {
            "text/plain": [
              "(64, 64, 3)"
            ]
          },
          "execution_count": 120,
          "metadata": {},
          "output_type": "execute_result"
        }
      ],
      "source": [
        "x.shape"
      ]
    },
    {
      "cell_type": "code",
      "execution_count": null,
      "metadata": {
        "id": "PrUhuL_eUjNq",
        "outputId": "9437e21a-c1ae-470c-c8e6-fe52a9e21a81"
      },
      "outputs": [
        {
          "data": {
            "text/plain": [
              "numpy.ndarray"
            ]
          },
          "execution_count": 121,
          "metadata": {},
          "output_type": "execute_result"
        }
      ],
      "source": [
        "type(x)"
      ]
    },
    {
      "cell_type": "code",
      "execution_count": null,
      "metadata": {
        "id": "TXFZ4M13UjNt"
      },
      "outputs": [],
      "source": [
        "x = np.expand_dims(x,axis = 0)"
      ]
    },
    {
      "cell_type": "code",
      "execution_count": null,
      "metadata": {
        "id": "Em40YrLwUjNw",
        "outputId": "97dbbda1-ed8a-432a-9b9a-e15657c2e3ee"
      },
      "outputs": [
        {
          "data": {
            "text/plain": [
              "(1, 64, 64, 3)"
            ]
          },
          "execution_count": 123,
          "metadata": {},
          "output_type": "execute_result"
        }
      ],
      "source": [
        "x.shape"
      ]
    },
    {
      "cell_type": "code",
      "execution_count": null,
      "metadata": {
        "id": "O4mcRlQCUjNz"
      },
      "outputs": [],
      "source": [
        "pred = np.argmax(model.predict(x))"
      ]
    },
    {
      "cell_type": "code",
      "execution_count": null,
      "metadata": {
        "id": "BH3qR9mZUjN1",
        "outputId": "178bed91-eaad-4a33-82d5-233396857e90"
      },
      "outputs": [
        {
          "data": {
            "text/plain": [
              "0"
            ]
          },
          "execution_count": 125,
          "metadata": {},
          "output_type": "execute_result"
        }
      ],
      "source": [
        "pred"
      ]
    },
    {
      "cell_type": "code",
      "execution_count": null,
      "metadata": {
        "id": "SnB-qPQ1UjN3"
      },
      "outputs": [],
      "source": [
        "index = ['bears','crows', 'elephants', 'racoons', 'rats']"
      ]
    },
    {
      "cell_type": "code",
      "execution_count": null,
      "metadata": {
        "id": "yo9M-VLBUjN4"
      },
      "outputs": [],
      "source": [
        "prediction = index[pred]"
      ]
    },
    {
      "cell_type": "code",
      "execution_count": null,
      "metadata": {
        "id": "8KCsTT-jUjN5",
        "outputId": "926e3d0d-6d62-40ca-9678-20c5f5bb2ed1"
      },
      "outputs": [
        {
          "data": {
            "text/plain": [
              "'bears'"
            ]
          },
          "execution_count": 128,
          "metadata": {},
          "output_type": "execute_result"
        }
      ],
      "source": [
        "prediction"
      ]
    },
    {
      "cell_type": "code",
      "execution_count": null,
      "metadata": {
        "id": "Tr9ZyGmtUjN7"
      },
      "outputs": [],
      "source": [
        ""
      ]
    }
  ],
  "metadata": {
    "kernelspec": {
      "display_name": "Python 3",
      "language": "python",
      "name": "python3"
    },
    "language_info": {
      "codemirror_mode": {
        "name": "ipython",
        "version": 3
      },
      "file_extension": ".py",
      "mimetype": "text/x-python",
      "name": "python",
      "nbconvert_exporter": "python",
      "pygments_lexer": "ipython3",
      "version": "3.7.6"
    },
    "colab": {
      "name": "CNN-test.ipynb",
      "provenance": [],
      "include_colab_link": true
    }
  },
  "nbformat": 4,
  "nbformat_minor": 0
}